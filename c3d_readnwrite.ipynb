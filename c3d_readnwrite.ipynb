{
 "cells": [
  {
   "cell_type": "code",
   "execution_count": null,
   "id": "42a8b23d",
   "metadata": {},
   "outputs": [],
   "source": [
    "import c3d         #importing the c3d package\n",
    "import numpy as np\n",
    "\n",
    "\n",
    "\n",
    "reader = c3d.Reader(open('P02_FL_Con_2FP_noGapFill.c3d', 'rb')) # reading the c3d binary file by using the Reader function\n",
    "writer=c3d.Writer()\n",
    "w.add_frames(process_frames_somehow(r.read_frames()))\n",
    "with open('P02_FL_Con_2FP_noGapFill','wb')as handle:\n",
    "    w.write(handle)\n",
    "#for i, points, analog in reader.read_frames():\n",
    " #   print('frame {}: point {}, analog {}'.format(i, points.shape, analog.shape))\n",
    "\n",
    "\n",
    "\n",
    "\n",
    "#for i in range(100):\n",
    " #   writer.add_frames(np.random.randn(30, 5))\n",
    "#with open('P02_FL_Con_2FP_noGapFill.c3d', 'wb') as h:\n",
    " #   writer.write(h)\n",
    "    "
   ]
  },
  {
   "cell_type": "code",
   "execution_count": null,
   "id": "765dac19",
   "metadata": {},
   "outputs": [],
   "source": [
    "#for c3d viewer\n",
    "\n",
    "import pyglet\n",
    "window= pyglet.window.Window()\n",
    "pyglet.app.run()\n"
   ]
  }
 ],
 "metadata": {
  "kernelspec": {
   "display_name": "Python 3",
   "language": "python",
   "name": "python3"
  },
  "language_info": {
   "codemirror_mode": {
    "name": "ipython",
    "version": 3
   },
   "file_extension": ".py",
   "mimetype": "text/x-python",
   "name": "python",
   "nbconvert_exporter": "python",
   "pygments_lexer": "ipython3",
   "version": "3.8.1"
  }
 },
 "nbformat": 4,
 "nbformat_minor": 5
}
