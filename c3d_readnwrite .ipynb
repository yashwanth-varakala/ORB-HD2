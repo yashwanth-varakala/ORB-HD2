{
 "cells": [
  {
   "cell_type": "code",
   "execution_count": null,
   "id": "42a8b23d",
   "metadata": {},
   "outputs": [],
   "source": [
    "import c3d         #importing the c3d package\n",
    "import numpy as np\n",
    "\n",
    "\n",
    "\n",
    "reader = c3d.Reader(open('P02_FL_Con_2FP_noGapFill.c3d', 'rb')) # reading the c3d binary file by using the Reader function\n",
    "writer=c3d.Writer()\n",
    "w.add_frames(process_frames_somehow(r.read_frames()))\n",
    "with open('P02_FL_Con_2FP_noGapFill','wb')as handle:\n",
    "    w.write(handle)\n",
    "#for i, points, analog in reader.read_frames():\n",
    " #   print('frame {}: point {}, analog {}'.format(i, points.shape, analog.shape))\n",
    "\n",
    "\n",
    "\n",
    "\n",
    "#for i in range(100):\n",
    " #   writer.add_frames(np.random.randn(30, 5))\n",
    "#with open('P02_FL_Con_2FP_noGapFill.c3d', 'wb') as h:\n",
    " #   writer.write(h)\n",
    "    "
   ]
  },
  {
   "cell_type": "code",
   "execution_count": null,
   "id": "765dac19",
   "metadata": {},
   "outputs": [],
   "source": [
    "#for c3d viewer\n",
    "\n",
    "import pyglet\n",
    "window= pyglet.window.Window()\n",
    "pyglet.app.run()\n"
   ]
  },
  {
   "cell_type": "code",
   "execution_count": 4,
   "id": "14ffde55",
   "metadata": {},
   "outputs": [
    {
     "name": "stdout",
     "output_type": "stream",
     "text": [
      "The watermark extension is already loaded. To reload it, use:\n",
      "  %reload_ext watermark\n",
      "Python implementation: CPython\n",
      "Python version       : 3.8.1\n",
      "IPython version      : 7.22.0\n",
      "\n",
      "wget         : not installed\n",
      "pandas       : 1.1.4\n",
      "numpy        : 1.19.1\n",
      "c3d          : 0.3.0\n",
      "geopy        : not installed\n",
      "altair       : not installed\n",
      "vega         : not installed\n",
      "vega_datasets: not installed\n",
      "watermark    : 2.2.0\n",
      "\n",
      "Compiler    : MSC v.1916 64 bit (AMD64)\n",
      "OS          : Windows\n",
      "Release     : 10\n",
      "Machine     : AMD64\n",
      "Processor   : Intel64 Family 6 Model 142 Stepping 10, GenuineIntel\n",
      "CPU cores   : 8\n",
      "Architecture: 64bit\n",
      "\n",
      "\n",
      "Last updated: Tue May 18 2021 13:00:48W. Europe Summer Time\n",
      "\n"
     ]
    }
   ],
   "source": [
    "#Packages required to run the program\n",
    "%load_ext watermark\n",
    "%watermark -v -m -p wget,pandas,numpy,c3d,geopy,altair,vega,vega_datasets,watermark\n",
    "print(\"\")\n",
    "%watermark -u -n -t -z"
   ]
  },
  {
   "cell_type": "code",
   "execution_count": null,
   "id": "f1d95e4a",
   "metadata": {},
   "outputs": [],
   "source": []
  }
 ],
 "metadata": {
  "kernelspec": {
   "display_name": "Python 3",
   "language": "python",
   "name": "python3"
  },
  "language_info": {
   "codemirror_mode": {
    "name": "ipython",
    "version": 3
   },
   "file_extension": ".py",
   "mimetype": "text/x-python",
   "name": "python",
   "nbconvert_exporter": "python",
   "pygments_lexer": "ipython3",
   "version": "3.8.1"
  }
 },
 "nbformat": 4,
 "nbformat_minor": 5
}
